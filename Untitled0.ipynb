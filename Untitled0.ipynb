{
  "nbformat": 4,
  "nbformat_minor": 0,
  "metadata": {
    "colab": {
      "provenance": []
    },
    "kernelspec": {
      "name": "python3",
      "display_name": "Python 3"
    },
    "language_info": {
      "name": "python"
    }
  },
  "cells": [
    {
      "cell_type": "code",
      "source": [
        "!pip install -q tensorflow\n",
        "!pip install -q tensorflow==2.14.0"
      ],
      "metadata": {
        "colab": {
          "base_uri": "https://localhost:8080/"
        },
        "collapsed": true,
        "id": "0uqMY_zUloAu",
        "outputId": "94939f32-9cb7-4fa7-f041-6f9d0d18fa3f"
      },
      "execution_count": 18,
      "outputs": [
        {
          "output_type": "stream",
          "name": "stdout",
          "text": [
            "\u001b[2K   \u001b[90m━━━━━━━━━━━━━━━━━━━━━━━━━━━━━━━━━━━━━━━━\u001b[0m \u001b[32m489.9/489.9 MB\u001b[0m \u001b[31m1.2 MB/s\u001b[0m eta \u001b[36m0:00:00\u001b[0m\n",
            "\u001b[2K   \u001b[90m━━━━━━━━━━━━━━━━━━━━━━━━━━━━━━━━━━━━━━━━\u001b[0m \u001b[32m1.0/1.0 MB\u001b[0m \u001b[31m41.7 MB/s\u001b[0m eta \u001b[36m0:00:00\u001b[0m\n",
            "\u001b[2K   \u001b[90m━━━━━━━━━━━━━━━━━━━━━━━━━━━━━━━━━━━━━━━━\u001b[0m \u001b[32m1.7/1.7 MB\u001b[0m \u001b[31m57.9 MB/s\u001b[0m eta \u001b[36m0:00:00\u001b[0m\n",
            "\u001b[2K   \u001b[90m━━━━━━━━━━━━━━━━━━━━━━━━━━━━━━━━━━━━━━━━\u001b[0m \u001b[32m5.5/5.5 MB\u001b[0m \u001b[31m61.9 MB/s\u001b[0m eta \u001b[36m0:00:00\u001b[0m\n",
            "\u001b[2K   \u001b[90m━━━━━━━━━━━━━━━━━━━━━━━━━━━━━━━━━━━━━━━━\u001b[0m \u001b[32m440.7/440.7 kB\u001b[0m \u001b[31m25.0 MB/s\u001b[0m eta \u001b[36m0:00:00\u001b[0m\n",
            "\u001b[?25h\u001b[33mWARNING: Ignoring invalid distribution ~ensorflow (/usr/local/lib/python3.11/dist-packages)\u001b[0m\u001b[33m\n",
            "\u001b[0m\u001b[33mWARNING: Ignoring invalid distribution ~ensorflow (/usr/local/lib/python3.11/dist-packages)\u001b[0m\u001b[33m\n",
            "\u001b[0m\u001b[33mWARNING: Ignoring invalid distribution ~ensorflow (/usr/local/lib/python3.11/dist-packages)\u001b[0m\u001b[33m\n",
            "\u001b[0m\u001b[33mWARNING: Ignoring invalid distribution ~ensorflow (/usr/local/lib/python3.11/dist-packages)\u001b[0m\u001b[33m\n",
            "\u001b[0m\u001b[31mERROR: pip's dependency resolver does not currently take into account all the packages that are installed. This behaviour is the source of the following dependency conflicts.\n",
            "jax 0.4.38 requires ml_dtypes>=0.4.0, but you have ml-dtypes 0.2.0 which is incompatible.\n",
            "tensorstore 0.1.74 requires ml_dtypes>=0.3.1, but you have ml-dtypes 0.2.0 which is incompatible.\n",
            "orbax-checkpoint 0.11.16 requires jax>=0.5.0, but you have jax 0.4.38 which is incompatible.\n",
            "tensorflow-decision-forests 1.11.0 requires tensorflow==2.18.0, but you have tensorflow 2.14.0 which is incompatible.\n",
            "tensorflow-text 2.18.1 requires tensorflow<2.19,>=2.18.0, but you have tensorflow 2.14.0 which is incompatible.\n",
            "tf-keras 2.18.0 requires tensorflow<2.19,>=2.18, but you have tensorflow 2.14.0 which is incompatible.\n",
            "flax 0.10.6 requires jax>=0.5.1, but you have jax 0.4.38 which is incompatible.\u001b[0m\u001b[31m\n",
            "\u001b[0m"
          ]
        }
      ]
    },
    {
      "cell_type": "code",
      "source": [
        "import tensorflow as tf\n",
        "from tensorflow.keras.models import load_model\n",
        "import numpy as np\n",
        "from PIL import Image\n",
        "import os, sys\n",
        "\n",
        "BASE_DIR = \"/content/test\"\n",
        "ALLOWED_EXT = (\".jpg\", \".jpeg\", \".png\", \".bmp\", \".gif\")\n",
        "\n",
        "model = load_model(\"keras_model.h5\")\n",
        "\n",
        "label_map = {0: \"cats\", 1: \"dogs\"}\n",
        "\n",
        "def preprocess_image(path):\n",
        "    img = Image.open(path).convert(\"RGB\")\n",
        "    img = img.resize((224, 224))\n",
        "    return np.expand_dims(np.asarray(img) / 255.0, axis=0)\n",
        "\n",
        "def predict(image_path):\n",
        "    if not os.path.isabs(image_path):\n",
        "        image_path = os.path.join(BASE_DIR, image_path)\n",
        "    if not os.path.exists(image_path):\n",
        "        raise FileNotFoundError(f\"Image not found: {image_path}\")\n",
        "\n",
        "    preds = model.predict(preprocess_image(image_path))\n",
        "    idx = int(np.argmax(preds))\n",
        "    label = label_map.get(idx, f\"class {idx}\")\n",
        "\n",
        "    print(f\"✅ Prediction: This image most likely belongs to **{label}** \"\n",
        "          f\"with a confidence of {preds[0][idx]*100:.2f}%\")\n",
        "\n",
        "if __name__ == \"__main__\":\n",
        "    img_args = [a for a in sys.argv[1:] if a.lower().endswith(ALLOWED_EXT)]\n",
        "    if img_args:\n",
        "        predict(img_args[0])\n",
        "    else:\n",
        "        print(\"No image detected in args.\\n\"\n",
        "              \"CLI usage: python predict.py mypic.jpg\\n\"\n",
        "              \"Or in Jupyter notebook: predict('mypic.jpg')\")"
      ],
      "metadata": {
        "colab": {
          "base_uri": "https://localhost:8080/"
        },
        "id": "9BOBkSjCTwWO",
        "outputId": "06f91553-5734-4697-f093-95d6651a939b"
      },
      "execution_count": 27,
      "outputs": [
        {
          "output_type": "stream",
          "name": "stderr",
          "text": [
            "WARNING:tensorflow:No training configuration found in the save file, so the model was *not* compiled. Compile it manually.\n"
          ]
        },
        {
          "output_type": "stream",
          "name": "stdout",
          "text": [
            "No image detected in args.\n",
            "CLI usage: python predict.py mypic.jpg\n",
            "Or in Jupyter notebook: predict('mypic.jpg')\n"
          ]
        }
      ]
    },
    {
      "cell_type": "code",
      "source": [
        "predict(\"cat1.jpg\")"
      ],
      "metadata": {
        "id": "RshsMMrbrfgW",
        "colab": {
          "base_uri": "https://localhost:8080/"
        },
        "outputId": "b6a28b8e-c9a4-4b4c-b697-f5d6df66c210"
      },
      "execution_count": 28,
      "outputs": [
        {
          "output_type": "stream",
          "name": "stdout",
          "text": [
            "1/1 [==============================] - 1s 662ms/step\n",
            "✅ Prediction: This image most likely belongs to **cats** with a confidence of 99.42%\n"
          ]
        }
      ]
    },
    {
      "cell_type": "code",
      "source": [],
      "metadata": {
        "id": "lI2yoa9DVDdS"
      },
      "execution_count": null,
      "outputs": []
    }
  ]
}